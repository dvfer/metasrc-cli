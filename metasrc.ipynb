{
 "cells": [
  {
   "cell_type": "code",
   "execution_count": 2,
   "metadata": {},
   "outputs": [],
   "source": [
    "import requests\n",
    "from bs4 import BeautifulSoup\n",
    "import pandas as pd"
   ]
  },
  {
   "cell_type": "code",
   "execution_count": 11,
   "metadata": {},
   "outputs": [
    {
     "data": {
      "text/plain": [
       "[<Response [301]>]"
      ]
     },
     "execution_count": 11,
     "metadata": {},
     "output_type": "execute_result"
    }
   ],
   "source": [
    "URL = 'https://www.metasrc.com/5v5/champion/ahri/suo'\n",
    "r = requests.get(URL)\n",
    "r.history\n",
    "\n"
   ]
  },
  {
   "cell_type": "code",
   "execution_count": 7,
   "metadata": {},
   "outputs": [],
   "source": [
    "soup = BeautifulSoup(r.content)\n"
   ]
  },
  {
   "cell_type": "code",
   "execution_count": 8,
   "metadata": {},
   "outputs": [],
   "source": [
    "\n",
    "items_soup = soup.find_all(lambda tag: tag.name == 'div' and tag.get('class') == ['_9jhm56'])\n",
    "#soup.find_all('div', attrs={'class':'_9jhm56'})\n",
    "\n",
    "\n",
    "# aca listamos las imagenes del soup\n",
    "# OJO _5lds7o-1 -> class => es mitico\n",
    "item_soup_listed = [elem for elem in items_soup[0].find_all('img')]\n"
   ]
  },
  {
   "cell_type": "code",
   "execution_count": 9,
   "metadata": {},
   "outputs": [],
   "source": [
    "item_list = [] # para mayor entendimiento lo dejaré asi\n",
    "for elem in item_soup_listed:\n",
    "    item_list.append(elem.get('alt')) # Hago lista de los alt de las imagenes, lo cual es basicamente el nombre del objeto"
   ]
  },
  {
   "cell_type": "code",
   "execution_count": 10,
   "metadata": {},
   "outputs": [
    {
     "data": {
      "text/plain": [
       "[\"Luden's Tempest\",\n",
       " \"Sorcerer's Shoes\",\n",
       " 'Shadowflame',\n",
       " 'Horizon Focus',\n",
       " \"Zhonya's Hourglass\",\n",
       " \"Rabadon's Deathcap\"]"
      ]
     },
     "execution_count": 10,
     "metadata": {},
     "output_type": "execute_result"
    }
   ],
   "source": [
    "item_list[:-2] # excluyo 2 items, los wards y la pocima esa"
   ]
  },
  {
   "cell_type": "code",
   "execution_count": 34,
   "metadata": {},
   "outputs": [
    {
     "name": "stdout",
     "output_type": "stream",
     "text": [
      "skill/level 1 2 3 4 5 6 7 8 9 10 11 12 13 14 15 16 17 18\n",
      "          Q   *   * *   *   *                           \n",
      "          W *             *    *     *  *               \n",
      "          E     *                          *  *     *  *\n",
      "          R           *           *              *      \n"
     ]
    }
   ],
   "source": [
    "skills_soup = soup.find_all('table')\n",
    "levels = [str(i) for i in range(1,19)]\n",
    "levels.insert(0,\"skill/level\")\n",
    "\n",
    "def skill_to_list(toParse):\n",
    "    \"\"\" Funcion que recibe una sopita con los td de la tabla de skills\\n\n",
    "        Considerar que el 0 corresponde a un icono que corresponde a la imagen de la habilidad.\n",
    "    \"\"\"\n",
    "    skillset = [0]*19 \n",
    "    for idx,elem in enumerate(toParse):\n",
    "        x = elem.contents\n",
    "        if idx != 0:\n",
    "\n",
    "            if x != []:\n",
    "                skillset[idx] = \"*\"\n",
    "            elif x == []:\n",
    "                skillset[idx] = \"\"\n",
    "    skillset.remove(0)\n",
    "    return skillset\n",
    "\n",
    "\n",
    "for id_toParse_skill,toParse_skill in enumerate(skills_soup[0].find_all('tr')):\n",
    "    # los ids corresponden a un td de cada habilidad\n",
    "    # 0: el td de la pasiva, o mas bien de los niveles\n",
    "    # 1: td de la Q \n",
    "    # 2: td de la W\n",
    "    # 3: td de la E\n",
    "    # 4: td de la R\n",
    "\n",
    "    if id_toParse_skill == 0:\n",
    "        continue\n",
    "    if id_toParse_skill == 1:\n",
    "        Q_skill = skill_to_list(toParse_skill)\n",
    "        Q_skill.insert(0, \"Q\")\n",
    "    elif id_toParse_skill == 2:\n",
    "        W_skill = skill_to_list(toParse_skill)\n",
    "        W_skill.insert(0, \"W\")\n",
    "    elif id_toParse_skill == 3:\n",
    "        E_skill = skill_to_list(toParse_skill)\n",
    "        E_skill.insert(0, \"E\")\n",
    "    elif id_toParse_skill == 4:\n",
    "        R_skill = skill_to_list(toParse_skill)\n",
    "        R_skill.insert(0, \"R\")\n",
    "skill_matrix = [Q_skill,W_skill,E_skill,R_skill]\n",
    "dataframe = pd.DataFrame(skill_matrix,columns=levels)\n",
    "print(dataframe.to_string(index=False))\n",
    "\n",
    "\n",
    "\n",
    "        \n",
    "\n",
    "        "
   ]
  },
  {
   "cell_type": "code",
   "execution_count": 12,
   "metadata": {},
   "outputs": [
    {
     "data": {
      "text/plain": [
       "[\"Doran's Ring\", 'Health Potion', 'Stealth Ward']"
      ]
     },
     "execution_count": 12,
     "metadata": {},
     "output_type": "execute_result"
    }
   ],
   "source": [
    "def get_initial_items(soup): #\n",
    "    \"\"\" Funcion que muestra en pantalla los objetos iniciales recomendados. \"\"\"\n",
    "    # div class  _dtoou _iqcim1 _dcqhsp\n",
    "    initials_soup = soup.find_all(\"div\",class_=\"_dtoou _iqcim1 _dcqhsp\")\n",
    "    initials_soup_listed = [elem for elem in initials_soup[0].find_all('img')]\n",
    "    initials_list = [] # para mayor entendimiento lo dejaré asi\n",
    "    for elem in initials_soup_listed:\n",
    "        initials_list.append(elem.get('alt')) # Hago lista de los alt de las imagenes, lo cual es basicamente el nombre del objeto\n",
    "    return initials_list\n",
    "get_initial_items(soup)"
   ]
  },
  {
   "cell_type": "code",
   "execution_count": null,
   "metadata": {},
   "outputs": [],
   "source": []
  }
 ],
 "metadata": {
  "kernelspec": {
   "display_name": "Python 3 (ipykernel)",
   "language": "python",
   "name": "python3"
  },
  "language_info": {
   "codemirror_mode": {
    "name": "ipython",
    "version": 3
   },
   "file_extension": ".py",
   "mimetype": "text/x-python",
   "name": "python",
   "nbconvert_exporter": "python",
   "pygments_lexer": "ipython3",
   "version": "3.10.6"
  },
  "orig_nbformat": 4,
  "vscode": {
   "interpreter": {
    "hash": "916dbcbb3f70747c44a77c7bcd40155683ae19c65e1c03b4aa3499c5328201f1"
   }
  }
 },
 "nbformat": 4,
 "nbformat_minor": 2
}
